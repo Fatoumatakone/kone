{
 "cells": [
  {
   "cell_type": "code",
   "execution_count": 3,
   "id": "cc2993a2",
   "metadata": {},
   "outputs": [
    {
     "data": {
      "text/plain": [
       "array([1, 5, 7, 8])"
      ]
     },
     "execution_count": 3,
     "metadata": {},
     "output_type": "execute_result"
    }
   ],
   "source": [
    "import numpy as np\n",
    "tableau1=np.array([ 1,5,7,8])\n",
    "tableau1"
   ]
  },
  {
   "cell_type": "code",
   "execution_count": 4,
   "id": "76bd5db4",
   "metadata": {},
   "outputs": [
    {
     "data": {
      "text/plain": [
       "array([1, 2, 3, 4, 5, 6, 7, 8, 9])"
      ]
     },
     "execution_count": 4,
     "metadata": {},
     "output_type": "execute_result"
    }
   ],
   "source": [
    "#tableau2=np.array([1,2,3,4,5,6,7,8,9])\n",
    "#tableau2\n",
    "tableau2=np.arange(1,10)\n",
    "tableau2"
   ]
  },
  {
   "cell_type": "code",
   "execution_count": 5,
   "id": "1826c943",
   "metadata": {},
   "outputs": [
    {
     "data": {
      "text/plain": [
       "array([0, 0, 0, 0, 0, 0, 0, 0, 0, 0])"
      ]
     },
     "execution_count": 5,
     "metadata": {},
     "output_type": "execute_result"
    }
   ],
   "source": [
    "## 3. Créer un tableau de 10 éléments rempli de 0\n",
    "table=np.zeros(10, dtype=\"int\")\n",
    "table\n",
    "#table=np.full(10,0)\n",
    "#table"
   ]
  },
  {
   "cell_type": "code",
   "execution_count": 6,
   "id": "f59f8109",
   "metadata": {},
   "outputs": [
    {
     "data": {
      "text/plain": [
       "array([[0., 0., 0., 0., 0.],\n",
       "       [0., 0., 0., 0., 0.]])"
      ]
     },
     "execution_count": 6,
     "metadata": {},
     "output_type": "execute_result"
    }
   ],
   "source": [
    "#4. Créer un tableau de 2 lignes 5 colonnes rempli de 0\n",
    "#table1=np.full((2,5),0)\n",
    "table1=np.zeros((2,5))\n",
    "table1"
   ]
  },
  {
   "cell_type": "code",
   "execution_count": 7,
   "id": "43b31070",
   "metadata": {},
   "outputs": [
    {
     "data": {
      "text/plain": [
       "array([1., 1., 1., 1., 1., 1., 1., 1., 1., 1.])"
      ]
     },
     "execution_count": 7,
     "metadata": {},
     "output_type": "execute_result"
    }
   ],
   "source": [
    "#5. Créer un tableau de 10 éléments rempli de 1\n",
    "table2=np.ones(10)\n",
    "table2"
   ]
  },
  {
   "cell_type": "code",
   "execution_count": 8,
   "id": "3afc1ee9",
   "metadata": {},
   "outputs": [
    {
     "data": {
      "text/plain": [
       "array([[1., 1., 1., 1., 1.],\n",
       "       [1., 1., 1., 1., 1.]])"
      ]
     },
     "execution_count": 8,
     "metadata": {},
     "output_type": "execute_result"
    }
   ],
   "source": [
    "#6. Créer un tableau de 2 lignes 5 colonnes rempli de 1\n",
    "table3=np.ones((2,5))\n",
    "table3"
   ]
  },
  {
   "cell_type": "code",
   "execution_count": 9,
   "id": "d7135371",
   "metadata": {},
   "outputs": [
    {
     "data": {
      "text/plain": [
       "array([[8.5, 8.5, 8.5, 8.5, 8.5, 8.5, 8.5, 8.5, 8.5, 8.5]])"
      ]
     },
     "execution_count": 9,
     "metadata": {},
     "output_type": "execute_result"
    }
   ],
   "source": [
    "#7. Créer un tableau de 10 éléments rempli 8.5\n",
    "table4=np.full((1,10),8.5)\n",
    "table4"
   ]
  },
  {
   "cell_type": "code",
   "execution_count": 10,
   "id": "df49b339",
   "metadata": {},
   "outputs": [
    {
     "data": {
      "text/plain": [
       "array([1, 2, 3, 4, 5, 6, 7, 8, 9])"
      ]
     },
     "execution_count": 10,
     "metadata": {},
     "output_type": "execute_result"
    }
   ],
   "source": [
    "#8. Créer un tableau de série d'entiers successifs allant de 1 à 9 inclus\n",
    "tableS=np.array(range(1,10))\n",
    "tableS"
   ]
  },
  {
   "cell_type": "code",
   "execution_count": 11,
   "id": "8e063de8",
   "metadata": {},
   "outputs": [
    {
     "data": {
      "text/plain": [
       "array([[1, 2, 3],\n",
       "       [4, 5, 6],\n",
       "       [7, 8, 9]])"
      ]
     },
     "execution_count": 11,
     "metadata": {},
     "output_type": "execute_result"
    }
   ],
   "source": [
    "#9. Créer un tableau de 3 lignes et 3 colonnes rempli de série d'entiers successifs allant de 1 à 9 inclus\n",
    "#tables1=np.array([[1,2,3],[4,5,6],[7,8,9]])\n",
    "tables1=np.arange(1,10).reshape(3,3)\n",
    "tables1\n"
   ]
  },
  {
   "cell_type": "code",
   "execution_count": 12,
   "id": "d59ce59f",
   "metadata": {},
   "outputs": [
    {
     "data": {
      "text/plain": [
       "array([[1., 0., 0., 0.],\n",
       "       [0., 1., 0., 0.],\n",
       "       [0., 0., 1., 0.],\n",
       "       [0., 0., 0., 1.]])"
      ]
     },
     "execution_count": 12,
     "metadata": {},
     "output_type": "execute_result"
    }
   ],
   "source": [
    "#10.Créer une matrice identité de 4 lignes 4 colonnes\n",
    "matricei =np.identity(4)\n",
    "matricei"
   ]
  },
  {
   "cell_type": "code",
   "execution_count": 13,
   "id": "6abd898d",
   "metadata": {},
   "outputs": [
    {
     "data": {
      "text/plain": [
       "array([-5. , -2.5,  0. ,  2.5,  5. ])"
      ]
     },
     "execution_count": 13,
     "metadata": {},
     "output_type": "execute_result"
    }
   ],
   "source": [
    "#11. Tableau rempli de valeurs aléatoires normales centrées en zéro\n",
    "tableB=np.linspace(-5,5,5)\n",
    "tableB"
   ]
  },
  {
   "cell_type": "code",
   "execution_count": 14,
   "id": "da8652dd",
   "metadata": {},
   "outputs": [
    {
     "data": {
      "text/plain": [
       "array([8, 8, 9, 2, 2, 2, 3, 8, 3, 7, 3, 4, 4, 3, 8, 7, 6, 8, 3, 8])"
      ]
     },
     "execution_count": 14,
     "metadata": {},
     "output_type": "execute_result"
    }
   ],
   "source": [
    "#12.Créer un tableau rempli de 20 valeurs aléatoires entières comprises entre 1 et\n",
    "10\n",
    "tableauA=np.random.randint(2,10,size=20)\n",
    "tableauA"
   ]
  },
  {
   "cell_type": "code",
   "execution_count": 15,
   "id": "1ce6d664",
   "metadata": {},
   "outputs": [
    {
     "data": {
      "text/plain": [
       "array([[8, 8, 9, 2, 2],\n",
       "       [2, 3, 8, 3, 7],\n",
       "       [3, 4, 4, 3, 8],\n",
       "       [7, 6, 8, 3, 8]])"
      ]
     },
     "execution_count": 15,
     "metadata": {},
     "output_type": "execute_result"
    }
   ],
   "source": [
    "#13.Transformer le tableau précédent en matrice de 4 lignes et 5 colonnes\n",
    "matrice=tableauA.reshape((4,5))\n",
    "matrice"
   ]
  },
  {
   "cell_type": "code",
   "execution_count": 16,
   "id": "b3288577",
   "metadata": {},
   "outputs": [
    {
     "data": {
      "text/plain": [
       "array([0.  , 0.25, 0.5 , 0.75, 1.  ])"
      ]
     },
     "execution_count": 16,
     "metadata": {},
     "output_type": "execute_result"
    }
   ],
   "source": [
    "#14.Créer un tableau de 5 éléments compris entre 0 et 1 avec une amplitude égale\n",
    "tab=np.linspace(0,1,5)\n",
    "tab"
   ]
  },
  {
   "cell_type": "code",
   "execution_count": 17,
   "id": "68304086",
   "metadata": {},
   "outputs": [
    {
     "data": {
      "text/plain": [
       "dtype('float64')"
      ]
     },
     "execution_count": 17,
     "metadata": {},
     "output_type": "execute_result"
    }
   ],
   "source": [
    "type =tab.dtype\n",
    "type"
   ]
  },
  {
   "cell_type": "markdown",
   "id": "bf60647a",
   "metadata": {},
   "source": [
    "EXERCICE2"
   ]
  },
  {
   "cell_type": "code",
   "execution_count": 18,
   "id": "5a32a940",
   "metadata": {},
   "outputs": [
    {
     "data": {
      "text/plain": [
       "(3, 3)"
      ]
     },
     "execution_count": 18,
     "metadata": {},
     "output_type": "execute_result"
    }
   ],
   "source": [
    "#1. Afficher le nombre de lignes et de colonnes\n",
    "a = np.array([[1,2,3],[4,5,6],[7,8,9]])\n",
    "a.shape"
   ]
  },
  {
   "cell_type": "code",
   "execution_count": 19,
   "id": "0384a8fc",
   "metadata": {},
   "outputs": [
    {
     "data": {
      "text/plain": [
       "2"
      ]
     },
     "execution_count": 19,
     "metadata": {},
     "output_type": "execute_result"
    }
   ],
   "source": [
    "#2. Afficher la dimension de mon tableau\n",
    "a.ndim"
   ]
  },
  {
   "cell_type": "code",
   "execution_count": 20,
   "id": "9c3e5eee",
   "metadata": {},
   "outputs": [
    {
     "data": {
      "text/plain": [
       "9"
      ]
     },
     "execution_count": 20,
     "metadata": {},
     "output_type": "execute_result"
    }
   ],
   "source": [
    "#3. Afficher le nombre d'élément de mon tableau\n",
    "a.size"
   ]
  },
  {
   "cell_type": "code",
   "execution_count": 21,
   "id": "f9c14947",
   "metadata": {},
   "outputs": [
    {
     "data": {
      "text/plain": [
       "dtype('int32')"
      ]
     },
     "execution_count": 21,
     "metadata": {},
     "output_type": "execute_result"
    }
   ],
   "source": [
    "#4. Afficher le type des éléments du tableau\n",
    "a.dtype"
   ]
  },
  {
   "cell_type": "markdown",
   "id": "733a928a",
   "metadata": {},
   "source": [
    "EXERCICE3"
   ]
  },
  {
   "cell_type": "code",
   "execution_count": 22,
   "id": "e0dc938d",
   "metadata": {},
   "outputs": [
    {
     "name": "stdout",
     "output_type": "stream",
     "text": [
      "5\n"
     ]
    }
   ],
   "source": [
    "#1. afficher la valeur 5 qui est dans le tableau\n",
    "b = np.array([[1,2,3],[4,5,6],[7,8,9]])\n",
    "print(b[1,1])"
   ]
  },
  {
   "cell_type": "code",
   "execution_count": 23,
   "id": "8deddbab",
   "metadata": {},
   "outputs": [
    {
     "data": {
      "text/plain": [
       "array([[1, 2, 3],\n",
       "       [4, 0, 6],\n",
       "       [7, 8, 9]])"
      ]
     },
     "execution_count": 23,
     "metadata": {},
     "output_type": "execute_result"
    }
   ],
   "source": [
    "#2. Remplacer le 5 qui est dans le tableau par 0\n",
    "b = np.array([[1,2,3],[4,5,6],[7,8,9]])\n",
    "b[b ==5 ] = 0\n",
    "b"
   ]
  },
  {
   "cell_type": "code",
   "execution_count": 24,
   "id": "cf5aaca7",
   "metadata": {},
   "outputs": [
    {
     "name": "stdout",
     "output_type": "stream",
     "text": [
      "3\n",
      "6\n",
      "9\n"
     ]
    }
   ],
   "source": [
    "#3. afficher les chiffres 3, 6 et 9 du tableau\n",
    "print(b[0,2])\n",
    "print(b[1,2])\n",
    "print(b[2,2])"
   ]
  },
  {
   "cell_type": "code",
   "execution_count": 25,
   "id": "680a5111",
   "metadata": {},
   "outputs": [
    {
     "data": {
      "text/plain": [
       "array([[5, 1, 5],\n",
       "       [5, 4, 8],\n",
       "       [8, 6, 6],\n",
       "       [7, 3, 7]])"
      ]
     },
     "execution_count": 25,
     "metadata": {},
     "output_type": "execute_result"
    }
   ],
   "source": [
    "#4. créer un tableau de 4 lignes et 3 colonnes rempli de 12 nombres entiersaléatoires compris entre 0 et 9\n",
    "import random\n",
    "F= np.random.randint(9,size = (4,3))\n",
    "F\n"
   ]
  },
  {
   "cell_type": "code",
   "execution_count": 26,
   "id": "fb26aba1",
   "metadata": {},
   "outputs": [
    {
     "data": {
      "text/plain": [
       "dtype('int32')"
      ]
     },
     "execution_count": 26,
     "metadata": {},
     "output_type": "execute_result"
    }
   ],
   "source": [
    "type=F.dtype\n",
    "type"
   ]
  },
  {
   "cell_type": "code",
   "execution_count": 42,
   "id": "0c5ce1ce",
   "metadata": {},
   "outputs": [
    {
     "data": {
      "text/plain": [
       "array([[False,  True, False],\n",
       "       [False,  True, False],\n",
       "       [False, False, False],\n",
       "       [False,  True, False]])"
      ]
     },
     "execution_count": 42,
     "metadata": {},
     "output_type": "execute_result"
    }
   ],
   "source": [
    "#5. Vérifier qu’il y a des nombres inférieur à 5\n",
    "F<5\n"
   ]
  },
  {
   "cell_type": "code",
   "execution_count": 43,
   "id": "a7bfab92",
   "metadata": {
    "scrolled": true
   },
   "outputs": [
    {
     "data": {
      "text/plain": [
       "array([[5, 0, 5],\n",
       "       [5, 0, 8],\n",
       "       [8, 6, 6],\n",
       "       [7, 0, 7]])"
      ]
     },
     "execution_count": 43,
     "metadata": {},
     "output_type": "execute_result"
    }
   ],
   "source": [
    "#6. Remplacer les nombres inférieurs à 5 par 0\n",
    "F[F<5]=0\n",
    "F"
   ]
  },
  {
   "cell_type": "markdown",
   "id": "bf4b5ba7",
   "metadata": {},
   "source": [
    "EXERCICE4"
   ]
  },
  {
   "cell_type": "code",
   "execution_count": 72,
   "id": "ec56b3eb",
   "metadata": {
    "scrolled": true
   },
   "outputs": [
    {
     "data": {
      "text/plain": [
       "array([5, 0, 2, 2, 5, 8, 8, 5, 4, 7, 3])"
      ]
     },
     "execution_count": 72,
     "metadata": {},
     "output_type": "execute_result"
    }
   ],
   "source": [
    "#1. Créer un tableau rempli de 11 nombres entiersaléatoires compris entre 0 et 9\n",
    "T=np.random.randint(0,9,11)\n",
    "T"
   ]
  },
  {
   "cell_type": "code",
   "execution_count": 73,
   "id": "2f02652c",
   "metadata": {},
   "outputs": [
    {
     "data": {
      "text/plain": [
       "dtype('int32')"
      ]
     },
     "execution_count": 73,
     "metadata": {},
     "output_type": "execute_result"
    }
   ],
   "source": [
    "#2. Quel est le type des éléments du tableau ?\n",
    "type=T.dtype\n",
    "type"
   ]
  },
  {
   "cell_type": "code",
   "execution_count": 74,
   "id": "76a91501",
   "metadata": {},
   "outputs": [
    {
     "data": {
      "text/plain": [
       "array([5., 0., 2., 2., 5., 8., 8., 5., 4., 7., 3.], dtype=float32)"
      ]
     },
     "execution_count": 74,
     "metadata": {},
     "output_type": "execute_result"
    }
   ],
   "source": [
    "#3. Changer de type des éléments du tableau en float32\n",
    "T=T.astype('float32')\n",
    "T"
   ]
  },
  {
   "cell_type": "code",
   "execution_count": 75,
   "id": "9468e0b3",
   "metadata": {},
   "outputs": [
    {
     "data": {
      "text/plain": [
       "1"
      ]
     },
     "execution_count": 75,
     "metadata": {},
     "output_type": "execute_result"
    }
   ],
   "source": [
    "T.ndim"
   ]
  },
  {
   "cell_type": "code",
   "execution_count": 76,
   "id": "3ce98279",
   "metadata": {},
   "outputs": [
    {
     "data": {
      "text/plain": [
       "dtype('float32')"
      ]
     },
     "execution_count": 76,
     "metadata": {},
     "output_type": "execute_result"
    }
   ],
   "source": [
    "type=T.dtype\n",
    "type"
   ]
  },
  {
   "cell_type": "code",
   "execution_count": 77,
   "id": "52f158c7",
   "metadata": {},
   "outputs": [
    {
     "data": {
      "text/plain": [
       "array([5., 0., 2., 2., 5., 8., 8., 5., 4., 7., 3., 3.])"
      ]
     },
     "execution_count": 77,
     "metadata": {},
     "output_type": "execute_result"
    }
   ],
   "source": [
    "#4. Ajouter le chiffre 3 à la fin du tableau à une dimension\n",
    "T=np.append(T,3)\n",
    "T"
   ]
  },
  {
   "cell_type": "code",
   "execution_count": 78,
   "id": "1e5dbeb7",
   "metadata": {},
   "outputs": [
    {
     "data": {
      "text/plain": [
       "array([[5., 0., 2., 2.],\n",
       "       [5., 8., 8., 5.],\n",
       "       [4., 7., 3., 3.]])"
      ]
     },
     "execution_count": 78,
     "metadata": {},
     "output_type": "execute_result"
    }
   ],
   "source": [
    "#5. Transformer le tableau en matrice dénommée “Te” de 3 lignes et 4 colonnes\n",
    "Te = T.reshape(3,4)\n",
    "Te"
   ]
  },
  {
   "cell_type": "code",
   "execution_count": 80,
   "id": "d0ce7a11",
   "metadata": {},
   "outputs": [
    {
     "data": {
      "text/plain": [
       "array([[ 1,  2,  3,  4],\n",
       "       [ 5,  6,  7,  8],\n",
       "       [ 9, 10, 11, 12]])"
      ]
     },
     "execution_count": 80,
     "metadata": {},
     "output_type": "execute_result"
    }
   ],
   "source": [
    "#6. Créer une matrice dénommée “b” de 3 lignes et 4 colonnes remplie de séried'entiers successifs allant de 1 à 12 inclus\n",
    "b=np.arange(1,13).reshape(3,4)\n",
    "b"
   ]
  },
  {
   "cell_type": "code",
   "execution_count": 87,
   "id": "5b0789ce",
   "metadata": {},
   "outputs": [
    {
     "data": {
      "text/plain": [
       "array([[ 5.,  0.,  2.,  2.,  1.,  2.,  3.,  4.],\n",
       "       [ 5.,  8.,  8.,  5.,  5.,  6.,  7.,  8.],\n",
       "       [ 4.,  7.,  3.,  3.,  9., 10., 11., 12.]])"
      ]
     },
     "execution_count": 87,
     "metadata": {},
     "output_type": "execute_result"
    }
   ],
   "source": [
    "#7. Créer une matrice dénommée “c” qui est la concaténation des deux tableaux“Te” et “b” dans le sens horizontale\n",
    "c=np.concatenate((Te,b))\n",
    "#c=np.hstack((Te,b))\n",
    "c"
   ]
  },
  {
   "cell_type": "code",
   "execution_count": 89,
   "id": "f688e5bf",
   "metadata": {
    "scrolled": true
   },
   "outputs": [
    {
     "data": {
      "text/plain": [
       "array([[ 5.,  0.,  2.,  2.],\n",
       "       [ 5.,  8.,  8.,  5.],\n",
       "       [ 4.,  7.,  3.,  3.],\n",
       "       [ 1.,  2.,  3.,  4.],\n",
       "       [ 5.,  6.,  7.,  8.],\n",
       "       [ 9., 10., 11., 12.]])"
      ]
     },
     "execution_count": 89,
     "metadata": {},
     "output_type": "execute_result"
    }
   ],
   "source": [
    "#8. Créer une matrice dénommée “d” qui est la concaténation des deux tableaux“T” et “b” dans le sens vertical\n",
    "d=np.vstack((Te,b))\n",
    "d"
   ]
  },
  {
   "cell_type": "code",
   "execution_count": 91,
   "id": "16886d94",
   "metadata": {},
   "outputs": [
    {
     "data": {
      "text/plain": [
       "array([ 5.,  0.,  2.,  2.,  5.,  8.,  8.,  5.,  4.,  7.,  3.,  3.,  1.,\n",
       "        2.,  3.,  4.,  5.,  6.,  7.,  8.,  9., 10., 11., 12.])"
      ]
     },
     "execution_count": 91,
     "metadata": {},
     "output_type": "execute_result"
    }
   ],
   "source": [
    "#9. Aplatir un tableau “d”\n",
    "d=d.ravel()\n",
    "d"
   ]
  },
  {
   "cell_type": "code",
   "execution_count": 92,
   "id": "6869bfa8",
   "metadata": {},
   "outputs": [
    {
     "data": {
      "text/plain": [
       "array([ 5.,  0.,  2.,  2.,  5.,  8.,  8.,  5.,  4.,  7.,  3.,  3.,  1.,\n",
       "        2.,  3.,  4.,  5.,  6.,  7.,  8.,  9., 10., 11.])"
      ]
     },
     "execution_count": 92,
     "metadata": {},
     "output_type": "execute_result"
    }
   ],
   "source": [
    "#10.Supprimer dernier élément du tableau\n",
    "d=np.delete(d,-1)\n",
    "d"
   ]
  },
  {
   "cell_type": "markdown",
   "id": "3f12c166",
   "metadata": {},
   "source": [
    "EXERCICE5"
   ]
  },
  {
   "cell_type": "code",
   "execution_count": 4,
   "id": "02cb8400",
   "metadata": {},
   "outputs": [
    {
     "data": {
      "text/plain": [
       "array([[1, 2, 3],\n",
       "       [4, 5, 6],\n",
       "       [7, 8, 9]])"
      ]
     },
     "execution_count": 4,
     "metadata": {},
     "output_type": "execute_result"
    }
   ],
   "source": [
    "a = np.array([[1,2,3],[4,5,6],[7,8,9]])\n",
    "a"
   ]
  },
  {
   "cell_type": "code",
   "execution_count": 5,
   "id": "4d08751e",
   "metadata": {},
   "outputs": [
    {
     "data": {
      "text/plain": [
       "45"
      ]
     },
     "execution_count": 5,
     "metadata": {},
     "output_type": "execute_result"
    }
   ],
   "source": [
    "#1. Afficher la somme des éléments du tableau\n",
    "np.sum(a)"
   ]
  },
  {
   "cell_type": "code",
   "execution_count": 6,
   "id": "e0bbacc6",
   "metadata": {},
   "outputs": [
    {
     "data": {
      "text/plain": [
       "array([12, 15, 18])"
      ]
     },
     "execution_count": 6,
     "metadata": {},
     "output_type": "execute_result"
    }
   ],
   "source": [
    "#2. Afficher la somme des éléments du tableau par colonne\n",
    "np.sum(a,axis=0)"
   ]
  },
  {
   "cell_type": "code",
   "execution_count": 7,
   "id": "879ef10d",
   "metadata": {},
   "outputs": [
    {
     "data": {
      "text/plain": [
       "array([ 6, 15, 24])"
      ]
     },
     "execution_count": 7,
     "metadata": {},
     "output_type": "execute_result"
    }
   ],
   "source": [
    "#3. Afficher la somme des éléments du tableau par ligne\n",
    "np.sum(a,axis=1)"
   ]
  },
  {
   "cell_type": "code",
   "execution_count": 8,
   "id": "09981d5a",
   "metadata": {},
   "outputs": [
    {
     "data": {
      "text/plain": [
       "array([ 28,  80, 162])"
      ]
     },
     "execution_count": 8,
     "metadata": {},
     "output_type": "execute_result"
    }
   ],
   "source": [
    "#4. Afficher le produit des éléments du tableau par colonne\n",
    "np.prod(a,axis=0)"
   ]
  },
  {
   "cell_type": "code",
   "execution_count": 9,
   "id": "173a7004",
   "metadata": {},
   "outputs": [
    {
     "data": {
      "text/plain": [
       "1"
      ]
     },
     "execution_count": 9,
     "metadata": {},
     "output_type": "execute_result"
    }
   ],
   "source": [
    "#5. Afficher le minimum du tableau\n",
    "np.min(a)"
   ]
  },
  {
   "cell_type": "code",
   "execution_count": 10,
   "id": "02eaeff2",
   "metadata": {},
   "outputs": [
    {
     "data": {
      "text/plain": [
       "9"
      ]
     },
     "execution_count": 10,
     "metadata": {},
     "output_type": "execute_result"
    }
   ],
   "source": [
    "#6. Afficher le maximum des éléments du tableau\n",
    "np.max(a)"
   ]
  },
  {
   "cell_type": "code",
   "execution_count": 11,
   "id": "450d6543",
   "metadata": {},
   "outputs": [
    {
     "data": {
      "text/plain": [
       "5.0"
      ]
     },
     "execution_count": 11,
     "metadata": {},
     "output_type": "execute_result"
    }
   ],
   "source": [
    "#7. Afficher la moyenne des éléments du tableau\n",
    "np.mean(a)"
   ]
  },
  {
   "cell_type": "code",
   "execution_count": 12,
   "id": "9b515812",
   "metadata": {},
   "outputs": [
    {
     "data": {
      "text/plain": [
       "6.666666666666667"
      ]
     },
     "execution_count": 12,
     "metadata": {},
     "output_type": "execute_result"
    }
   ],
   "source": [
    "#8. Afficher la variance des éléments du tableau\n",
    "np.var(a)"
   ]
  },
  {
   "cell_type": "code",
   "execution_count": 123,
   "id": "9c65dc60",
   "metadata": {},
   "outputs": [
    {
     "data": {
      "text/plain": [
       "2.581988897471611"
      ]
     },
     "execution_count": 123,
     "metadata": {},
     "output_type": "execute_result"
    }
   ],
   "source": [
    "#9. Afficher l’écart type des éléments du tableau\n",
    "np.std(a)"
   ]
  },
  {
   "cell_type": "markdown",
   "id": "d1080c8d",
   "metadata": {},
   "source": []
  }
 ],
 "metadata": {
  "kernelspec": {
   "display_name": "Python 3 (ipykernel)",
   "language": "python",
   "name": "python3"
  },
  "language_info": {
   "codemirror_mode": {
    "name": "ipython",
    "version": 3
   },
   "file_extension": ".py",
   "mimetype": "text/x-python",
   "name": "python",
   "nbconvert_exporter": "python",
   "pygments_lexer": "ipython3",
   "version": "3.9.12"
  }
 },
 "nbformat": 4,
 "nbformat_minor": 5
}
